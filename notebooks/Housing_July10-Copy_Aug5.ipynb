{
 "cells": [
  {
   "cell_type": "markdown",
   "metadata": {},
   "source": [
    "## Analyzing Iowa Housing Data: Kaggle competition\n",
    "#### Matthew Johnson, August 5, 2018\n",
    "\n",
    "### Goal <br> \n",
    "- To predict the sale price for each house.<br>\n",
    "\n",
    "### Metric <br>\n",
    "Submissions are evaluated on Root-Mean-Squared-Error (RMSE) between the logarithm of the predicted value and the logarithm of the observed sales price. (Taking logs means that errors in predicting expensive houses and cheap houses will affect the result equally.)<br>\n",
    "\n",
    "#### Steps taken to clean data\n",
    "- Remove outliers\n",
    "- Change some numeric data to categorical\n",
    "- Fill in missing data\n",
    "- Recode ordinal variables\n",
    "- Add additional features\n",
    "- Scale/transform features\n",
    "- One hot encoding\n",
    "\n"
   ]
  },
  {
   "cell_type": "code",
   "execution_count": 1,
   "metadata": {
    "scrolled": true
   },
   "outputs": [
    {
     "name": "stdout",
     "output_type": "stream",
     "text": [
      "shape of training data:  (1460, 81)\n",
      "shape of testing data:  (1459, 80)\n"
     ]
    }
   ],
   "source": [
    "%matplotlib inline\n",
    "import pandas as pd\n",
    "import numpy as np\n",
    "import matplotlib.pyplot as plt\n",
    "import seaborn as sns\n",
    "import warnings\n",
    "warnings.filterwarnings('ignore')\n",
    "\n",
    "fileTrain = '/Users/mattjohnson/Desktop/Python2018/kaggleHousing/train.csv'\n",
    "fileTest = '/Users/mattjohnson/Desktop/Python2018/kaggleHousing/test.csv'\n",
    "\n",
    "training = pd.read_csv(fileTrain)\n",
    "testing = pd.read_csv(fileTest)\n",
    "\n",
    "print('Shape of the training data: {} '.format(training.shape))\n",
    "print('Shape of the testing data: {} '.format(testing.shape))"
   ]
  },
  {
   "cell_type": "code",
   "execution_count": 2,
   "metadata": {},
   "outputs": [
    {
     "name": "stdout",
     "output_type": "stream",
     "text": [
      "The train data size before dropping Id feature is : (1460, 81) \n",
      "The test data size before dropping Id feature is : (1459, 80) \n"
     ]
    }
   ],
   "source": [
    "train = training.copy()\n",
    "test = testing.copy()\n",
    "\n",
    "# removing outliers\n",
    "train = train.drop([691, 1182, 457, 769, 178, 803, 898, 1046])\n",
    "\n",
    "#Save the 'Id' column\n",
    "train_ID = train['Id']\n",
    "test_ID = test['Id']\n",
    "\n",
    "sale_price = train['SalePrice']"
   ]
  },
  {
   "cell_type": "code",
   "execution_count": 3,
   "metadata": {},
   "outputs": [
    {
     "name": "stdout",
     "output_type": "stream",
     "text": [
      "ntrain: 1452\n",
      "ntest: 1459\n",
      "all_data size is : (2911, 80)\n"
     ]
    }
   ],
   "source": [
    "ntrain = train.shape[0]\n",
    "ntest = test.shape[0]\n",
    "print('ntrain =', ntrain,'\\tntest =', ntest)\n",
    "\n",
    "y_train = train.SalePrice.values\n",
    "all_data = pd.concat((train, test)) #.reset_index(drop=True)\n",
    "all_data.drop(['SalePrice'], axis=1, inplace=True)\n",
    "print(\"all_data size is : {}\".format(all_data.shape))"
   ]
  },
  {
   "cell_type": "markdown",
   "metadata": {},
   "source": [
    "### SalePrice"
   ]
  },
  {
   "cell_type": "code",
   "execution_count": 4,
   "metadata": {
    "scrolled": true
   },
   "outputs": [
    {
     "data": {
      "image/png": "[encoded data removed]",
      "text/plain": [
       "<Figure size 1008x288 with 2 Axes>"
      ]
     },
     "metadata": {},
     "output_type": "display_data"
    }
   ],
   "source": [
    "plt.subplots(figsize=(14,4))\n",
    "\n",
    "sns.set_color_codes()\n",
    "plt.subplot(1, 2, 1)\n",
    "ax = sns.distplot(y_train, color=\"y\").set_title('SalePrice distribution');\n",
    "\n",
    "#log transform\n",
    "plt.subplot(1, 2, 2)\n",
    "df_train = training.copy()\n",
    "df_train['SalePrice'] = np.log(df_train['SalePrice'])\n",
    "sns.set_color_codes()\n",
    "ax = sns.distplot(df_train['SalePrice'], color=\"y\", ).set_title('Log transformed SalePrice distribution');"
   ]
  },
  {
   "cell_type": "markdown",
   "metadata": {},
   "source": [
    "#### Analyzing and inputting missing data"
   ]
  },
  {
   "cell_type": "code",
   "execution_count": 5,
   "metadata": {
    "scrolled": false
   },
   "outputs": [
    {
     "data": {
      "text/html": [
       "<div>\n",
       "<style>\n",
       "    .dataframe thead tr:only-child th {\n",
       "        text-align: right;\n",
       "    }\n",
       "\n",
       "    .dataframe thead th {\n",
       "        text-align: left;\n",
       "    }\n",
       "\n",
       "    .dataframe tbody tr th {\n",
       "        vertical-align: top;\n",
       "    }\n",
       "</style>\n",
       "<table border=\"1\" class=\"dataframe\">\n",
       "  <thead>\n",
       "    <tr style=\"text-align: right;\">\n",
       "      <th></th>\n",
       "      <th>Total</th>\n",
       "      <th>Percent</th>\n",
       "    </tr>\n",
       "  </thead>\n",
       "  <tbody>\n",
       "    <tr>\n",
       "      <th>PoolQC</th>\n",
       "      <td>2902</td>\n",
       "      <td>0.996908</td>\n",
       "    </tr>\n",
       "    <tr>\n",
       "      <th>MiscFeature</th>\n",
       "      <td>2806</td>\n",
       "      <td>0.963930</td>\n",
       "    </tr>\n",
       "    <tr>\n",
       "      <th>Alley</th>\n",
       "      <td>2713</td>\n",
       "      <td>0.931982</td>\n",
       "    </tr>\n",
       "    <tr>\n",
       "      <th>Fence</th>\n",
       "      <td>2341</td>\n",
       "      <td>0.804191</td>\n",
       "    </tr>\n",
       "    <tr>\n",
       "      <th>FireplaceQu</th>\n",
       "      <td>1420</td>\n",
       "      <td>0.487805</td>\n",
       "    </tr>\n",
       "  </tbody>\n",
       "</table>\n",
       "</div>"
      ],
      "text/plain": [
       "             Total   Percent\n",
       "PoolQC        2902  0.996908\n",
       "MiscFeature   2806  0.963930\n",
       "Alley         2713  0.931982\n",
       "Fence         2341  0.804191\n",
       "FireplaceQu   1420  0.487805"
      ]
     },
     "execution_count": 5,
     "metadata": {},
     "output_type": "execute_result"
    }
   ],
   "source": [
    "total = all_data.isnull().sum().sort_values(ascending=False)\n",
    "percent = (all_data.isnull().sum()/all_data.isnull().count()).sort_values(ascending=False)\n",
    "missing_data = pd.concat([total, percent], axis=1, keys=['Total', 'Percent'])\n",
    "missing_data = missing_data[ missing_data['Total']>0]\n",
    "missing_data.head()"
   ]
  },
  {
   "cell_type": "code",
   "execution_count": 6,
   "metadata": {},
   "outputs": [
    {
     "data": {
      "image/png": "[encoded data removed]",
      "text/plain": [
       "<Figure size 1080x288 with 1 Axes>"
      ]
     },
     "metadata": {},
     "output_type": "display_data"
    }
   ],
   "source": [
    "plt.subplots(figsize=(15,4))\n",
    "sns.barplot(x=missing_data.index, y=missing_data['Percent'])\n",
    "plt.xticks(rotation=-45)\n",
    "plt.title('Percentage of values missing');"
   ]
  },
  {
   "cell_type": "markdown",
   "metadata": {
    "collapsed": true
   },
   "source": [
    "### Ordinal categorical variables: Condition/Quality\n",
    "\n",
    "Some of the categorical variables had an ordering to them, we will call them qualitative variables. To preserve that I wrote a method that takes each of those qualitative variables and orders them by the 'SalePrice' mean of that subcategory and maps the column to numerical with a dictionary. Higher number implies better. <br>\n",
    "For example, *'BsmtQual' : {'Ex': 4, 'Fa': 1, 'Gd': 3, 'TA': 2, 'missing': 0}*."
   ]
  },
  {
   "cell_type": "code",
   "execution_count": 7,
   "metadata": {
    "collapsed": true
   },
   "outputs": [],
   "source": [
    "# method for changing obj. columns of ordinal variables\n",
    "\n",
    "def encode_ordinal_cats(dataframe):\n",
    "    \n",
    "    dict_list = list() # instantiate a list for dictionaries to be applied to categorical cols\n",
    "    dict_key_list = list() # same for a list of keys\n",
    "\n",
    "    df = dataframe.copy() # make copy of dataframe passed through \n",
    "        \n",
    "    cat_df = df.select_dtypes(include=['object']) # for .columns loop below \n",
    "    \n",
    "    for c in cat_df.columns: # loop through categorical columns\n",
    "        \n",
    "        df[c] = df[c].fillna('missing') # to show that data is missing\n",
    "\n",
    "        abbrev_list = training[c].value_counts().index # list of abbreviations in category\n",
    "        \n",
    "        sorted_abbrevs = abbrev_list.copy()\n",
    "        sorted_abbrevs = sorted_abbrevs.sort_values()\n",
    "                \n",
    "        # make a list of dictionaries, if all abbrevs ( 'Fa', 'Ex', etc.) are contained in a dictionaries keys and the\n",
    "        # length is the same, don't bother doing calculations, skip\n",
    "\n",
    "        if  list(sorted_abbrevs) in dict_key_list:\n",
    "            \n",
    "            dic_loc = dict_key_list.index(list(sorted_abbrevs))\n",
    "            \n",
    "            df[c].replace(dict_list[dic_loc], inplace=True) # replace old column with new ordinally labelled col\n",
    "\n",
    "        else:\n",
    "\n",
    "            mean_list = list() # list for each values mean saleprice\n",
    "        \n",
    "            for _ in abbrev_list: # loop through the abbreviations \n",
    "            \n",
    "                train_df = pd.concat([df[:ntrain], training['SalePrice']], axis=1)\n",
    "                mean_list.append(train_df[train_df[c]==_ ]['SalePrice'].mean()) # add to our list of means\n",
    "            \n",
    "            sorted_means = sorted( mean_list ) # sort our list for ordinal labeling\n",
    "        \n",
    "            i=0 \n",
    "            dic = {} # dictionary for this category\n",
    "        \n",
    "            for _ in abbrev_list: # loop through abbrevs again to fill dict\n",
    "            \n",
    "                w = sorted_means.index(mean_list[i]) # the 'ranking' (starts at 0)\n",
    "\n",
    "                dic.update({_:w+1}) # update our dictionary with latest entry\n",
    "            \n",
    "                i+=1\n",
    "            \n",
    "            dic.update({'missing': 0}) # update dictionary for missing data: 0 val\n",
    "                     \n",
    "            df[c].replace(dic, inplace=True) # replace old column with new ordinally labelled col\n",
    "            \n",
    "            dict_list.append(dic)\n",
    "            \n",
    "            l = list(dic.keys())\n",
    "            l.remove('missing')\n",
    "            l.sort()\n",
    "            dict_key_list.append(l)\n",
    "\n",
    "    print( '# categories:', cat_df.shape[1])\n",
    "    print( '# dictionaries used:', len(dict_list))\n",
    "    \n",
    "    return df, dict_list, dict_key_list # return the df in use"
   ]
  },
  {
   "cell_type": "markdown",
   "metadata": {},
   "source": [
    "### Filling missing data"
   ]
  },
  {
   "cell_type": "code",
   "execution_count": 8,
   "metadata": {
    "collapsed": true
   },
   "outputs": [],
   "source": [
    "def yes_to_int(k):\n",
    "        \n",
    "        if k=='Y':\n",
    "            return 1\n",
    "        else:\n",
    "            return 0\n",
    "        \n",
    "def fill_missing_data(dataframe): \n",
    "    \n",
    "    df = dataframe.copy()\n",
    "    \n",
    "    # Garage Year Built - setting to year house was built\n",
    "    df['GarageYrBlt'] = df['GarageYrBlt'].fillna(df['YearBuilt'])\n",
    "\n",
    "    # Setting Indicator variable of whether house has garage\n",
    "    df['HasGarage']  = np.where(df['GarageType'] != 0, 1, 0)\n",
    "\n",
    "    # Misc Features\n",
    "    df['MiscFeature'] = df['MiscFeature'].fillna('None')\n",
    "    \n",
    "    # Alley\n",
    "    df['Alley'] = df['Alley'].fillna('None')\n",
    "\n",
    "    # Fence\n",
    "    df['Fence'] = df['Fence'].fillna('None')\n",
    "\n",
    "    ### Lot Frontage - come back, see what kind of housing?\n",
    "    ## median / mean of neighbourhoods\n",
    "    df['LotFrontage'] = df.groupby('Neighborhood')['LotFrontage'].transform(\n",
    "        lambda x: x.fillna(x.median()))\n",
    "\n",
    "    # Setting Indicator variable of whether house has garage\n",
    "    df['HasBsmt']  = np.where(df['BsmtQual'] != 0, 1, 0)\n",
    "\n",
    "    # Masonry Veneer Type\n",
    "    df['MasVnrType'] = df['MasVnrType'].fillna('None')\n",
    "\n",
    "    # Masonry Veneer Area - fill to 0 since we assume there is none\n",
    "    df['MasVnrArea'] = df['MasVnrArea'].fillna(0.0)\n",
    "\n",
    "    # Electrical - Sbrkr is an overwhemling majority (mode), we will fill na's with this\n",
    "    df['Electrical'] = df['Electrical'].fillna('Sbrkr')\n",
    "\n",
    "    #turn MSSubClass and MoSold into categorical types\n",
    "    df['MSSubClass'] = df['MSSubClass'].astype(str)\n",
    "    df['MoSold'] = df['MoSold'].astype(str)\n",
    "    df['YrSold'] = df['YrSold'].astype(str)\n",
    "\n",
    "    # add column for total SF\n",
    "    df['TotalSF'] = df['1stFlrSF'] + df['2ndFlrSF'] + df['TotalBsmtSF'] \n",
    "\n",
    "    # Zoning: most common is RL - residential\n",
    "    df['MSZoning'] = df['MSZoning'].fillna(df['MSZoning'].mode()[0])\n",
    "\n",
    "    # Utilities: most common is All pub?\n",
    "    df['Utilities'] = df['Utilities'].fillna(df['Utilities'].mode()[0])\n",
    "    \n",
    "    # paved driveway turn numeric\n",
    "    df['PavedDrive'] = df['PavedDrive'].apply(yes_to_int)\n",
    "    \n",
    "    # central air turn numeric\n",
    "    df['CentralAir'] = df['CentralAir'].apply(yes_to_int)\n",
    "    \n",
    "    # Determine remaining columns with null values\n",
    "    null_sum = df.isnull().sum()\n",
    "    null_cols = null_sum[ null_sum!=0]\n",
    "\n",
    "    # Remainders and ones we may have missed due to future missing data\n",
    "    for col in null_cols.index:\n",
    "        if df[col].dtype == 'object':\n",
    "            df[col] = df[col].fillna(df[col].mode()[0])\n",
    "        elif df[col].dtype == 'int64':\n",
    "            df[col] = df[col].fillna(df[col].median()[0])\n",
    "        elif df[col].dtype == 'float64':\n",
    "            df[col] = df[col].fillna(df[col].mean())\n",
    "            \n",
    "    # Determine remaining columns with null values\n",
    "    null_sum = df.isnull().sum()\n",
    "    null_cols = null_sum[ null_sum!=0]\n",
    "    \n",
    "    return df"
   ]
  },
  {
   "cell_type": "markdown",
   "metadata": {},
   "source": [
    "### Start cleaning the data"
   ]
  },
  {
   "cell_type": "code",
   "execution_count": 9,
   "metadata": {
    "scrolled": true
   },
   "outputs": [
    {
     "name": "stdout",
     "output_type": "stream",
     "text": [
      "# categories: 15\n",
      "# dictionaries used: 8\n"
     ]
    }
   ],
   "source": [
    "# Qualitative variables that are categorical which we want to transform to ordinal numeric.\n",
    "qual_vars = ['ExterQual', 'ExterCond', 'KitchenQual', 'HeatingQC', 'BsmtQual', 'BsmtCond', 'BsmtExposure', \n",
    "             'FireplaceQu', 'GarageQual', 'PoolQC', 'GarageType', 'GarageCond','GarageFinish', 'BsmtFinType1', 'BsmtFinType2']\n",
    "\n",
    "# split qualitative predictor variables and not quals\n",
    "qual_df = all_data [ qual_vars ]\n",
    "nonqual_df = all_data.drop(qual_vars, axis=1)\n",
    "\n",
    "# call method to encode data numerically in ordinal fashion\n",
    "# all dicts is where we will store our dictionaries for use on testing data\n",
    "qual_df, all_dicts, key_list = encode_ordinal_cats(qual_df)"
   ]
  },
  {
   "cell_type": "code",
   "execution_count": 10,
   "metadata": {},
   "outputs": [
    {
     "name": "stdout",
     "output_type": "stream",
     "text": [
      "(2911, 15)\n",
      "(2911, 65)\n",
      "(2911, 83)\n"
     ]
    }
   ],
   "source": [
    "# filling non qualitative predictor variables\n",
    "filled_df = fill_missing_data( pd.concat([nonqual_df, qual_df[['BsmtQual', 'GarageType']]], axis=1))\n",
    "\n",
    "all_data = pd.concat([filled_df, qual_df.drop(['BsmtQual','GarageType'], axis=1)], axis=1)\n",
    "print (qual_df.shape)\n",
    "print (nonqual_df.shape)\n",
    "print ( all_data.shape )"
   ]
  },
  {
   "cell_type": "markdown",
   "metadata": {},
   "source": [
    "## Transforming / scaling features\n",
    "\n",
    "#### Skew"
   ]
  },
  {
   "cell_type": "code",
   "execution_count": 11,
   "metadata": {},
   "outputs": [
    {
     "name": "stdout",
     "output_type": "stream",
     "text": [
      "\n",
      "Skew in numerical features: \n",
      "\n"
     ]
    },
    {
     "data": {
      "text/html": [
       "<div>\n",
       "<style>\n",
       "    .dataframe thead tr:only-child th {\n",
       "        text-align: right;\n",
       "    }\n",
       "\n",
       "    .dataframe thead th {\n",
       "        text-align: left;\n",
       "    }\n",
       "\n",
       "    .dataframe tbody tr th {\n",
       "        vertical-align: top;\n",
       "    }\n",
       "</style>\n",
       "<table border=\"1\" class=\"dataframe\">\n",
       "  <thead>\n",
       "    <tr style=\"text-align: right;\">\n",
       "      <th></th>\n",
       "      <th>Skew</th>\n",
       "    </tr>\n",
       "  </thead>\n",
       "  <tbody>\n",
       "    <tr>\n",
       "      <th>PoolQC</th>\n",
       "      <td>22.308122</td>\n",
       "    </tr>\n",
       "    <tr>\n",
       "      <th>MiscVal</th>\n",
       "      <td>21.917089</td>\n",
       "    </tr>\n",
       "    <tr>\n",
       "      <th>PoolArea</th>\n",
       "      <td>17.763660</td>\n",
       "    </tr>\n",
       "    <tr>\n",
       "      <th>LotArea</th>\n",
       "      <td>13.138889</td>\n",
       "    </tr>\n",
       "    <tr>\n",
       "      <th>LowQualFinSF</th>\n",
       "      <td>12.071863</td>\n",
       "    </tr>\n",
       "    <tr>\n",
       "      <th>3SsnPorch</th>\n",
       "      <td>11.360117</td>\n",
       "    </tr>\n",
       "    <tr>\n",
       "      <th>KitchenAbvGr</th>\n",
       "      <td>4.295433</td>\n",
       "    </tr>\n",
       "    <tr>\n",
       "      <th>BsmtFinSF2</th>\n",
       "      <td>4.139470</td>\n",
       "    </tr>\n",
       "    <tr>\n",
       "      <th>EnclosedPorch</th>\n",
       "      <td>3.997699</td>\n",
       "    </tr>\n",
       "    <tr>\n",
       "      <th>ScreenPorch</th>\n",
       "      <td>3.966938</td>\n",
       "    </tr>\n",
       "    <tr>\n",
       "      <th>BsmtHalfBath</th>\n",
       "      <td>3.939433</td>\n",
       "    </tr>\n",
       "    <tr>\n",
       "      <th>MasVnrArea</th>\n",
       "      <td>2.611045</td>\n",
       "    </tr>\n",
       "    <tr>\n",
       "      <th>OpenPorchSF</th>\n",
       "      <td>2.541573</td>\n",
       "    </tr>\n",
       "    <tr>\n",
       "      <th>WoodDeckSF</th>\n",
       "      <td>1.848477</td>\n",
       "    </tr>\n",
       "    <tr>\n",
       "      <th>LotFrontage</th>\n",
       "      <td>1.505462</td>\n",
       "    </tr>\n",
       "    <tr>\n",
       "      <th>1stFlrSF</th>\n",
       "      <td>1.476677</td>\n",
       "    </tr>\n",
       "    <tr>\n",
       "      <th>TotalSF</th>\n",
       "      <td>1.472028</td>\n",
       "    </tr>\n",
       "    <tr>\n",
       "      <th>BsmtFinSF1</th>\n",
       "      <td>1.420834</td>\n",
       "    </tr>\n",
       "    <tr>\n",
       "      <th>GrLivArea</th>\n",
       "      <td>1.191384</td>\n",
       "    </tr>\n",
       "    <tr>\n",
       "      <th>TotalBsmtSF</th>\n",
       "      <td>1.164171</td>\n",
       "    </tr>\n",
       "  </tbody>\n",
       "</table>\n",
       "</div>"
      ],
      "text/plain": [
       "                    Skew\n",
       "PoolQC         22.308122\n",
       "MiscVal        21.917089\n",
       "PoolArea       17.763660\n",
       "LotArea        13.138889\n",
       "LowQualFinSF   12.071863\n",
       "3SsnPorch      11.360117\n",
       "KitchenAbvGr    4.295433\n",
       "BsmtFinSF2      4.139470\n",
       "EnclosedPorch   3.997699\n",
       "ScreenPorch     3.966938\n",
       "BsmtHalfBath    3.939433\n",
       "MasVnrArea      2.611045\n",
       "OpenPorchSF     2.541573\n",
       "WoodDeckSF      1.848477\n",
       "LotFrontage     1.505462\n",
       "1stFlrSF        1.476677\n",
       "TotalSF         1.472028\n",
       "BsmtFinSF1      1.420834\n",
       "GrLivArea       1.191384\n",
       "TotalBsmtSF     1.164171"
      ]
     },
     "execution_count": 11,
     "metadata": {},
     "output_type": "execute_result"
    }
   ],
   "source": [
    "from scipy.stats import norm, skew\n",
    "\n",
    "numeric_feats = all_data.dtypes[all_data.dtypes != \"object\"].index\n",
    "\n",
    "# Check the skew of all numerical features\n",
    "skewed_feats = all_data[numeric_feats].apply(lambda x: skew(x.dropna())).sort_values(ascending=False)\n",
    "print(\"\\nSkew in numerical features: \\n\")\n",
    "skewness = pd.DataFrame({'Skew' :skewed_feats})\n",
    "skewness.head(20)"
   ]
  },
  {
   "cell_type": "markdown",
   "metadata": {},
   "source": [
    "#### Box Cox Transformation"
   ]
  },
  {
   "cell_type": "code",
   "execution_count": 12,
   "metadata": {},
   "outputs": [
    {
     "name": "stdout",
     "output_type": "stream",
     "text": [
      "There are 51 skewed numerical features to Box Cox transform\n"
     ]
    }
   ],
   "source": [
    "skewness = skewness[abs(skewness) > 0.75]\n",
    "\n",
    "from scipy.special import boxcox1p\n",
    "skewed_features = skewness.index\n",
    "skewed_features = skewed_features.drop(['Id', 'HasGarage', 'HasBsmt'])\n",
    "\n",
    "print(\"There are {} skewed numerical features to Box Cox transform\".format(len(skewed_features)))\n",
    "\n",
    "lam = 0.15\n",
    "for feat in skewed_features:\n",
    "    all_data[feat] = boxcox1p(all_data[feat], lam)\n",
    "    "
   ]
  },
  {
   "cell_type": "code",
   "execution_count": 13,
   "metadata": {},
   "outputs": [
    {
     "name": "stdout",
     "output_type": "stream",
     "text": [
      "(2911, 83)\n"
     ]
    },
    {
     "data": {
      "text/plain": [
       "float64    51\n",
       "object     29\n",
       "int64       3\n",
       "dtype: int64"
      ]
     },
     "execution_count": 13,
     "metadata": {},
     "output_type": "execute_result"
    }
   ],
   "source": [
    "print(all_data.shape)\n",
    "all_data.dtypes.value_counts()"
   ]
  },
  {
   "cell_type": "markdown",
   "metadata": {},
   "source": [
    "### One hot encoding"
   ]
  },
  {
   "cell_type": "code",
   "execution_count": 14,
   "metadata": {
    "scrolled": true
   },
   "outputs": [
    {
     "name": "stdout",
     "output_type": "stream",
     "text": [
      "(2911, 83)\n",
      "(2911, 269)\n"
     ]
    }
   ],
   "source": [
    "print(\"There are {} features before one hot encoding\".format(all_data.shape[1]))\n",
    "all_data = pd.get_dummies(all_data)\n",
    "print(\"There are {} features after one hot encoding\".format(all_data.shape[1]))"
   ]
  },
  {
   "cell_type": "markdown",
   "metadata": {},
   "source": [
    "### Correlation with the target variable"
   ]
  },
  {
   "cell_type": "code",
   "execution_count": 47,
   "metadata": {},
   "outputs": [
    {
     "data": {
      "image/png": "[encoded data removed]",
      "text/plain": [
       "<Figure size 1152x432 with 2 Axes>"
      ]
     },
     "metadata": {},
     "output_type": "display_data"
    }
   ],
   "source": [
    "corr_df2 = pd.concat([all_data[:ntrain],sale_price], axis=1)\n",
    "\n",
    "corr = corr_df2.corr()['SalePrice']\n",
    "\n",
    "corr_rank = corr.sort_values(ascending=False)\n",
    "\n",
    "corr_rank_high = corr_rank[1:25]\n",
    "corr_rank_low = corr_rank[-25:]\n",
    "\n",
    "plt.subplots(figsize=(16,6))\n",
    "\n",
    "plt.subplot(1, 2, 1)\n",
    "highCorrs = corr_rank_high.sort_values(ascending=True)\n",
    "highCorrs.plot(kind='barh')\n",
    "plt.title('Top 25 correlated predictor variables with target')\n",
    "\n",
    "plt.subplot(1, 2, 2)\n",
    "inverseCorrs = corr_rank_low.sort_values(ascending=False)\n",
    "inverseCorrs.plot(kind='barh')\n",
    "plt.title('Bottom 25 correlated predictor variables with target');"
   ]
  },
  {
   "cell_type": "code",
   "execution_count": 67,
   "metadata": {},
   "outputs": [
    {
     "data": {
      "image/png": "[encoded data removed]",
      "text/plain": [
       "<Figure size 1224x576 with 2 Axes>"
      ]
     },
     "metadata": {},
     "output_type": "display_data"
    }
   ],
   "source": [
    "combined_list = list(highCorrs.index) + list(inverseCorrs.index)y_df = all_data[combined_list]\n",
    "numeric_data = y_df.select_dtypes(include=['float64']) # num_df (1460, 38)\n",
    "#numeric_data = numeric_data.drop(['Id'], axis=1)\n",
    "numeric_data = pd.concat([numeric_data.reset_index(drop=True), pd.DataFrame({'SalePrice':y_train})], axis=1)\n",
    "numeric_data_corr = numeric_data.corr()\n",
    "mask = np.zeros_like(numeric_data_corr, dtype=np.bool)\n",
    "mask[np.triu_indices_from(mask)] = True\n",
    "\n",
    "f, ax = plt.subplots(figsize=(17, 8))\n",
    "\n",
    "#  Generate a custom diverging colormap\n",
    "cmap = sns.diverging_palette(220, 10, as_cmap=True)\n",
    "sns.heatmap(numeric_data_corr, mask=mask, cmap=cmap, square=True, ax=ax);"
   ]
  },
  {
   "cell_type": "markdown",
   "metadata": {},
   "source": [
    "#### Setting up training and testing data"
   ]
  },
  {
   "cell_type": "code",
   "execution_count": 15,
   "metadata": {},
   "outputs": [
    {
     "name": "stdout",
     "output_type": "stream",
     "text": [
      "Size of training data: 1452\n",
      "Size of testing data: 1459\n"
     ]
    }
   ],
   "source": [
    "ntrain = train.shape[0]\n",
    "\n",
    "train_ID = train['Id']\n",
    "\n",
    "train = all_data[:ntrain]\n",
    "test = all_data[ntrain:]\n",
    "\n",
    "train.drop(\"Id\", axis = 1, inplace = True)\n",
    "test.drop(\"Id\", axis = 1, inplace = True)\n",
    "\n",
    "y_train = np.log(1+np.array(sale_price))\n",
    "\n",
    "print('Size of training data: {}'.format(train.shape[0]))\n",
    "print('Size of testing data: {}'.format(test.shape[0]))"
   ]
  },
  {
   "cell_type": "markdown",
   "metadata": {},
   "source": [
    "## Model training"
   ]
  },
  {
   "cell_type": "code",
   "execution_count": 16,
   "metadata": {
    "collapsed": true
   },
   "outputs": [],
   "source": [
    "from sklearn.linear_model import ElasticNet, Lasso, LassoLarsIC\n",
    "from sklearn.ensemble import RandomForestRegressor,  GradientBoostingRegressor\n",
    "from sklearn.kernel_ridge import KernelRidge\n",
    "from sklearn.pipeline import make_pipeline\n",
    "from sklearn.preprocessing import RobustScaler\n",
    "from sklearn.base import BaseEstimator, TransformerMixin, RegressorMixin, clone\n",
    "from sklearn.model_selection import KFold, cross_val_score, train_test_split\n",
    "from sklearn.metrics import mean_squared_error\n",
    "import xgboost as xgb\n",
    "\n",
    "pd.set_option('display.float_format', lambda x: '{:.3f}'.format(x)) #Limiting floats output to 3 decimal points"
   ]
  },
  {
   "cell_type": "markdown",
   "metadata": {},
   "source": [
    "#### GridSearchCV"
   ]
  },
  {
   "cell_type": "code",
   "execution_count": null,
   "metadata": {
    "collapsed": true
   },
   "outputs": [],
   "source": []
  },
  {
   "cell_type": "markdown",
   "metadata": {
    "collapsed": true
   },
   "source": [
    "#### LASSO"
   ]
  },
  {
   "cell_type": "code",
   "execution_count": 18,
   "metadata": {
    "collapsed": true
   },
   "outputs": [],
   "source": [
    "lasso = make_pipeline(RobustScaler(), Lasso(alpha =0.0005, random_state=1))"
   ]
  },
  {
   "cell_type": "markdown",
   "metadata": {},
   "source": [
    "#### Elastic Net"
   ]
  },
  {
   "cell_type": "code",
   "execution_count": 19,
   "metadata": {
    "collapsed": true
   },
   "outputs": [],
   "source": [
    "ENet = make_pipeline(RobustScaler(), ElasticNet(alpha=0.0005, l1_ratio=.9, random_state=3))"
   ]
  },
  {
   "cell_type": "markdown",
   "metadata": {},
   "source": [
    "#### Kernel Ridge Regression"
   ]
  },
  {
   "cell_type": "code",
   "execution_count": 20,
   "metadata": {
    "collapsed": true
   },
   "outputs": [],
   "source": [
    "KRR = KernelRidge(alpha=0.6, kernel='polynomial', degree=2, coef0=2.5)"
   ]
  },
  {
   "cell_type": "markdown",
   "metadata": {},
   "source": [
    "#### Gradient Boosting"
   ]
  },
  {
   "cell_type": "code",
   "execution_count": 21,
   "metadata": {
    "collapsed": true
   },
   "outputs": [],
   "source": [
    "GBoost = GradientBoostingRegressor(n_estimators=3000, learning_rate=0.05,\n",
    "                                   max_depth=4, max_features='sqrt',\n",
    "                                   min_samples_leaf=15, min_samples_split=10, \n",
    "                                   loss='huber', random_state =5)"
   ]
  },
  {
   "cell_type": "markdown",
   "metadata": {},
   "source": [
    "#### XGBoost"
   ]
  },
  {
   "cell_type": "code",
   "execution_count": 22,
   "metadata": {
    "collapsed": true
   },
   "outputs": [],
   "source": [
    "model_xgb = xgb.XGBRegressor(colsample_bytree=0.4603, gamma=0.0468, \n",
    "                             learning_rate=0.05, max_depth=3, \n",
    "                             min_child_weight=1.7817, n_estimators=2200,\n",
    "                             reg_alpha=0.4640, reg_lambda=0.8571,\n",
    "                             subsample=0.5213, silent=1,\n",
    "                             random_state =7, nthread = -1)"
   ]
  },
  {
   "cell_type": "markdown",
   "metadata": {},
   "source": [
    "### Model Scoring"
   ]
  },
  {
   "cell_type": "code",
   "execution_count": 24,
   "metadata": {},
   "outputs": [
    {
     "name": "stdout",
     "output_type": "stream",
     "text": [
      "Accuracy: 0.90 (+/- 0.01)\n"
     ]
    }
   ],
   "source": [
    "GBoost.fit(train, y_train)\n",
    "\n",
    "scores_GB = cross_val_score(GBoost, train, y_train, cv=5)\n",
    "print(\"Accuracy: %0.2f (+/- %0.2f)\" % (scores_GB.mean(), scores_GB.std() * 2))"
   ]
  },
  {
   "cell_type": "code",
   "execution_count": 25,
   "metadata": {},
   "outputs": [
    {
     "name": "stdout",
     "output_type": "stream",
     "text": [
      "Accuracy: 0.90 (+/- 0.05)\n"
     ]
    }
   ],
   "source": [
    "lasso.fit(train, y_train)\n",
    "\n",
    "scores_lasso = cross_val_score(lasso, train, y_train, cv=5)\n",
    "print(\"Accuracy: %0.2f (+/- %0.2f)\" % (scores_lasso.mean(), scores_lasso.std() * 2))"
   ]
  },
  {
   "cell_type": "code",
   "execution_count": 26,
   "metadata": {},
   "outputs": [
    {
     "name": "stdout",
     "output_type": "stream",
     "text": [
      "Accuracy: 0.90 (+/- 0.05)\n"
     ]
    }
   ],
   "source": [
    "ENet.fit(train, y_train)\n",
    "\n",
    "scores_ENet = cross_val_score(ENet, train, y_train, cv=5)\n",
    "print(\"Accuracy: %0.2f (+/- %0.2f)\" % (scores_ENet.mean(), scores_ENet.std() * 2))"
   ]
  },
  {
   "cell_type": "code",
   "execution_count": 27,
   "metadata": {},
   "outputs": [
    {
     "name": "stdout",
     "output_type": "stream",
     "text": [
      "Accuracy: 0.89 (+/- 0.03)\n"
     ]
    }
   ],
   "source": [
    "KRR.fit(train, y_train)\n",
    "\n",
    "scores_KRR = cross_val_score(KRR, train, y_train, cv=5)\n",
    "print(\"Accuracy: %0.2f (+/- %0.2f)\" % (scores_KRR.mean(), scores_KRR.std() * 2))"
   ]
  },
  {
   "cell_type": "code",
   "execution_count": 28,
   "metadata": {},
   "outputs": [
    {
     "name": "stdout",
     "output_type": "stream",
     "text": [
      "Accuracy: 0.91 (+/- 0.01)\n"
     ]
    }
   ],
   "source": [
    "model_xgb.fit(train, y_train)\n",
    "\n",
    "scores_xgb = cross_val_score(model_xgb, train, y_train, cv=5)\n",
    "print(\"Accuracy: %0.2f (+/- %0.2f)\" % (scores_xgb.mean(), scores_xgb.std() * 2))"
   ]
  },
  {
   "cell_type": "markdown",
   "metadata": {
    "collapsed": true
   },
   "source": [
    "### Combining models / Creating an ensemble"
   ]
  },
  {
   "cell_type": "code",
   "execution_count": 29,
   "metadata": {
    "collapsed": true
   },
   "outputs": [],
   "source": [
    "def averagingModels(X, train, labels, models=[]):\n",
    "    for model in models:\n",
    "        model.fit(train, labels)\n",
    "    predictions = np.column_stack([\n",
    "        model.predict(X) for model in models\n",
    "    ])\n",
    "    return np.mean(predictions, axis=1)"
   ]
  },
  {
   "cell_type": "code",
   "execution_count": 32,
   "metadata": {
    "collapsed": true
   },
   "outputs": [],
   "source": [
    "test_y = averagingModels(test, train, y_train, [GBoost, lasso, ENet, model_xgb, KRR])\n",
    "y_test = np.expm1(test_y)"
   ]
  },
  {
   "cell_type": "code",
   "execution_count": null,
   "metadata": {
    "collapsed": true
   },
   "outputs": [],
   "source": []
  },
  {
   "cell_type": "code",
   "execution_count": 33,
   "metadata": {
    "collapsed": true
   },
   "outputs": [],
   "source": [
    "sub = pd.DataFrame()\n",
    "sub['Id'] = test_ID\n",
    "sub['SalePrice'] = y_test\n",
    "sub.to_csv('MJ_submission_aug5_2.csv',index=False)\n",
    "# score = 0.11950\n",
    "# w/ model_xgb, KRR - 0.11900"
   ]
  },
  {
   "cell_type": "code",
   "execution_count": 39,
   "metadata": {
    "collapsed": true
   },
   "outputs": [],
   "source": [
    "model_xgb2 = xgb.XGBRegressor(colsample_bytree=0.4251, gamma=0.0479, \n",
    "                             learning_rate=0.05, max_depth=10, \n",
    "                             min_child_weight=1.8260, n_estimators=2200,\n",
    "                             reg_alpha=0.1861, reg_lambda=0.7705,\n",
    "                             subsample=0.9232,  silent=1,\n",
    "                             random_state =2018, nthread = -1)"
   ]
  },
  {
   "cell_type": "code",
   "execution_count": null,
   "metadata": {
    "collapsed": true
   },
   "outputs": [],
   "source": []
  },
  {
   "cell_type": "code",
   "execution_count": null,
   "metadata": {
    "collapsed": true
   },
   "outputs": [],
   "source": [
    "model_xgb2.fit(train, y_train)\n",
    "\n",
    "scores_xgb2 = cross_val_score(model_xgb2, train, y_train, cv=10)\n",
    "print(\"Accuracy: %0.4f (+/- %0.4f)\" % (scores_xgb2.mean(), scores_xgb2.std() * 2))"
   ]
  },
  {
   "cell_type": "code",
   "execution_count": 43,
   "metadata": {
    "collapsed": true
   },
   "outputs": [],
   "source": [
    "test_y = averagingModels(test, train, y_train, [GBoost, lasso, ENet, model_xgb2, KRR])\n",
    "y_test = np.expm1(test_y)"
   ]
  },
  {
   "cell_type": "code",
   "execution_count": 44,
   "metadata": {
    "collapsed": true
   },
   "outputs": [],
   "source": [
    "sub = pd.DataFrame()\n",
    "sub['Id'] = test_ID\n",
    "sub['SalePrice'] = y_test\n",
    "sub.to_csv('MJ_submission_aug5_3.csv',index=False)"
   ]
  },
  {
   "cell_type": "code",
   "execution_count": null,
   "metadata": {
    "collapsed": true
   },
   "outputs": [],
   "source": []
  },
  {
   "cell_type": "code",
   "execution_count": null,
   "metadata": {
    "collapsed": true
   },
   "outputs": [],
   "source": []
  },
  {
   "cell_type": "code",
   "execution_count": null,
   "metadata": {
    "collapsed": true
   },
   "outputs": [],
   "source": []
  },
  {
   "cell_type": "code",
   "execution_count": 61,
   "metadata": {},
   "outputs": [
    {
     "name": "stdout",
     "output_type": "stream",
     "text": [
      "t1->t2: 76871.6681982793 t1->t3: 76483.79155457881 t2->t3: 3312.674053417141\n"
     ]
    }
   ],
   "source": [
    "diff1 = abs (try1['SalePrice'] - try2['SalePrice']).mean()\n",
    "diff2 = abs (try1['SalePrice'] - try3['SalePrice']).mean()\n",
    "diff3 = abs (try3['SalePrice'] - try2['SalePrice']).mean()\n",
    "print('t1->t2:', diff1, 't1->t3:', diff2, 't2->t3:', diff3)"
   ]
  }
 ],
 "metadata": {
  "kernelspec": {
   "display_name": "Python 3",
   "language": "python",
   "name": "python3"
  },
  "language_info": {
   "codemirror_mode": {
    "name": "ipython",
    "version": 3
   },
   "file_extension": ".py",
   "mimetype": "text/x-python",
   "name": "python",
   "nbconvert_exporter": "python",
   "pygments_lexer": "ipython3",
   "version": "3.6.3"
  }
 },
 "nbformat": 4,
 "nbformat_minor": 2
}
